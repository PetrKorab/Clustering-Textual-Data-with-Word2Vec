{
  "cells": [
    {
      "cell_type": "code",
      "execution_count": null,
      "metadata": {
        "id": "Ggvc9CEomk-o"
      },
      "outputs": [],
      "source": [
        "# pip install duckdb"
      ]
    },
    {
      "cell_type": "code",
      "execution_count": null,
      "metadata": {
        "id": "xlPYOkM7t0wJ"
      },
      "outputs": [],
      "source": [
        "import duckdb\n",
        "\n",
        "# Connect to the main DuckDB database file\n",
        "conn = duckdb.connect('btc_TEST1.db')"
      ]
    },
    {
      "cell_type": "code",
      "execution_count": null,
      "metadata": {
        "colab": {
          "base_uri": "https://localhost:8080/",
          "height": 66,
          "referenced_widgets": [
            "7a4d0da20eec4249ae0761978b63d879",
            "083182712c734380822ebb509d5af037",
            "43e7df9f765e4cfda6208418df4adc7c"
          ]
        },
        "id": "CPCDI_jDTUR0",
        "outputId": "b5216724-59a0-483d-9085-fa4f2a006629"
      },
      "outputs": [
        {
          "data": {
            "application/vnd.jupyter.widget-view+json": {
              "model_id": "7a4d0da20eec4249ae0761978b63d879",
              "version_major": 2,
              "version_minor": 0
            },
            "text/plain": [
              "FloatProgress(value=0.0, layout=Layout(width='auto'), style=ProgressStyle(bar_color='black'))"
            ]
          },
          "metadata": {},
          "output_type": "display_data"
        },
        {
          "data": {
            "text/plain": [
              "<duckdb.duckdb.DuckDBPyConnection at 0x7aa91171cef0>"
            ]
          },
          "execution_count": 4,
          "metadata": {},
          "output_type": "execute_result"
        }
      ],
      "source": [
        "# Attach the additional DuckDB database file\n",
        "conn.execute(\"ATTACH DATABASE 'btc_TEST2.db' AS first_db\")"
      ]
    },
    {
      "cell_type": "code",
      "execution_count": null,
      "metadata": {
        "colab": {
          "base_uri": "https://localhost:8080/"
        },
        "id": "VEPz_6Uht-Bh",
        "outputId": "f47fb06e-5876-4ce9-ec48-45c756d5f1ce"
      },
      "outputs": [
        {
          "name": "stdout",
          "output_type": "stream",
          "text": [
            "Tables in main database: [('transactions',), ('tx_ins',), ('tx_outs',), ('transactions',), ('tx_ins',), ('tx_outs',)]\n"
          ]
        }
      ],
      "source": [
        "import duckdb\n",
        "\n",
        "# Example query: List tables in the main database\n",
        "main_tables = conn.execute(\"SELECT name FROM sqlite_master WHERE type='table'\").fetchall()\n",
        "print(\"Tables in main database:\", main_tables)\n"
      ]
    },
    {
      "cell_type": "code",
      "execution_count": null,
      "metadata": {
        "id": "zWJ91fXXnlTI"
      },
      "outputs": [],
      "source": [
        "import duckdb\n",
        "\n",
        "# Merge tables from first_db into main database (Example: merging 'transactions' table)\n",
        "merge_first = \"\"\"\n",
        "    INSERT INTO main.transactions\n",
        "    SELECT * FROM first_db.transactions;\n",
        "\"\"\""
      ]
    },
    {
      "cell_type": "code",
      "execution_count": null,
      "metadata": {
        "colab": {
          "base_uri": "https://localhost:8080/",
          "height": 211
        },
        "id": "cypwHYEAuHwg",
        "outputId": "c54c595d-6640-4e18-e698-4f793865cd0d"
      },
      "outputs": [
        {
          "ename": "IOException",
          "evalue": "IO Error: Could not write file \"/content/gdrive/.shortcut-targets-by-id/1m-eOrbD--G2q-p2DkZfNOnc2PQZpWsCz/data_import_pipeline/Stage4-Database/btc_V1_1-1800.db\": No space left on device",
          "output_type": "error",
          "traceback": [
            "\u001b[0;31m---------------------------------------------------------------------------\u001b[0m",
            "\u001b[0;31mIOException\u001b[0m                               Traceback (most recent call last)",
            "\u001b[0;32m<ipython-input-7-75763b3f3e61>\u001b[0m in \u001b[0;36m<cell line: 1>\u001b[0;34m()\u001b[0m\n\u001b[0;32m----> 1\u001b[0;31m \u001b[0mconn\u001b[0m\u001b[0;34m.\u001b[0m\u001b[0mexecute\u001b[0m\u001b[0;34m(\u001b[0m\u001b[0mmerge_first\u001b[0m\u001b[0;34m)\u001b[0m\u001b[0;34m\u001b[0m\u001b[0;34m\u001b[0m\u001b[0m\n\u001b[0m\u001b[1;32m      2\u001b[0m \u001b[0;34m\u001b[0m\u001b[0m\n\u001b[1;32m      3\u001b[0m \u001b[0;31m# Detach the attached database\u001b[0m\u001b[0;34m\u001b[0m\u001b[0;34m\u001b[0m\u001b[0m\n\u001b[1;32m      4\u001b[0m \u001b[0mconn\u001b[0m\u001b[0;34m.\u001b[0m\u001b[0mexecute\u001b[0m\u001b[0;34m(\u001b[0m\u001b[0;34m\"DETACH DATABASE first_db\"\u001b[0m\u001b[0;34m)\u001b[0m\u001b[0;34m\u001b[0m\u001b[0;34m\u001b[0m\u001b[0m\n",
            "\u001b[0;31mIOException\u001b[0m: IO Error: Could not write file \"/content/gdrive/.shortcut-targets-by-id/1m-eOrbD--G2q-p2DkZfNOnc2PQZpWsCz/data_import_pipeline/Stage4-Database/btc_V1_1-1800.db\": No space left on device"
          ]
        }
      ],
      "source": [
        "conn.execute(merge_first)\n",
        "\n",
        "# Detach the attached database\n",
        "conn.execute(\"DETACH DATABASE first_db\")"
      ]
    },
    {
      "cell_type": "code",
      "execution_count": null,
      "metadata": {
        "id": "PZ6QbFhkuUhU"
      },
      "outputs": [],
      "source": [
        "# Close connection\n",
        "conn.close()"
      ]
    }
  ],
  "metadata": {
    "accelerator": "GPU",
    "colab": {
      "gpuType": "A100",
      "machine_shape": "hm",
      "provenance": []
    },
    "kernelspec": {
      "display_name": "Python 3",
      "name": "python3"
    },
    "language_info": {
      "name": "python"
    },
    "widgets": {
      "application/vnd.jupyter.widget-state+json": {
        "083182712c734380822ebb509d5af037": {
          "model_module": "@jupyter-widgets/base",
          "model_module_version": "1.2.0",
          "model_name": "LayoutModel",
          "state": {
            "_model_module": "@jupyter-widgets/base",
            "_model_module_version": "1.2.0",
            "_model_name": "LayoutModel",
            "_view_count": null,
            "_view_module": "@jupyter-widgets/base",
            "_view_module_version": "1.2.0",
            "_view_name": "LayoutView",
            "align_content": null,
            "align_items": null,
            "align_self": null,
            "border": null,
            "bottom": null,
            "display": null,
            "flex": null,
            "flex_flow": null,
            "grid_area": null,
            "grid_auto_columns": null,
            "grid_auto_flow": null,
            "grid_auto_rows": null,
            "grid_column": null,
            "grid_gap": null,
            "grid_row": null,
            "grid_template_areas": null,
            "grid_template_columns": null,
            "grid_template_rows": null,
            "height": null,
            "justify_content": null,
            "justify_items": null,
            "left": null,
            "margin": null,
            "max_height": null,
            "max_width": null,
            "min_height": null,
            "min_width": null,
            "object_fit": null,
            "object_position": null,
            "order": null,
            "overflow": null,
            "overflow_x": null,
            "overflow_y": null,
            "padding": null,
            "right": null,
            "top": null,
            "visibility": null,
            "width": "auto"
          }
        },
        "43e7df9f765e4cfda6208418df4adc7c": {
          "model_module": "@jupyter-widgets/controls",
          "model_module_version": "1.5.0",
          "model_name": "ProgressStyleModel",
          "state": {
            "_model_module": "@jupyter-widgets/controls",
            "_model_module_version": "1.5.0",
            "_model_name": "ProgressStyleModel",
            "_view_count": null,
            "_view_module": "@jupyter-widgets/base",
            "_view_module_version": "1.2.0",
            "_view_name": "StyleView",
            "bar_color": "black",
            "description_width": ""
          }
        },
        "7a4d0da20eec4249ae0761978b63d879": {
          "model_module": "@jupyter-widgets/controls",
          "model_module_version": "1.5.0",
          "model_name": "FloatProgressModel",
          "state": {
            "_dom_classes": [],
            "_model_module": "@jupyter-widgets/controls",
            "_model_module_version": "1.5.0",
            "_model_name": "FloatProgressModel",
            "_view_count": null,
            "_view_module": "@jupyter-widgets/controls",
            "_view_module_version": "1.5.0",
            "_view_name": "ProgressView",
            "bar_style": "",
            "description": "",
            "description_tooltip": null,
            "layout": "IPY_MODEL_083182712c734380822ebb509d5af037",
            "max": 100,
            "min": 0,
            "orientation": "horizontal",
            "style": "IPY_MODEL_43e7df9f765e4cfda6208418df4adc7c",
            "value": 100
          }
        }
      }
    }
  },
  "nbformat": 4,
  "nbformat_minor": 0
}
